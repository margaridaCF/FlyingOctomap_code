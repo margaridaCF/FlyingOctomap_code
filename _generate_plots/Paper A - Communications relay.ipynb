{
 "cells": [
  {
   "cell_type": "markdown",
   "metadata": {},
   "source": [
    "# Contents"
   ]
  },
  {
   "cell_type": "markdown",
   "metadata": {},
   "source": []
  },
  {
   "cell_type": "markdown",
   "metadata": {},
   "source": [
    "# My contribution"
   ]
  },
  {
   "cell_type": "markdown",
   "metadata": {},
   "source": [
    "Another run of Lazy Theta Star in large real scenario"
   ]
  },
  {
   "cell_type": "markdown",
   "metadata": {},
   "source": [
    "# Data sampling instructions"
   ]
  },
  {
   "cell_type": "markdown",
   "metadata": {},
   "source": [
    "1. Docker\n",
    "    2. Build docker image\n",
    "        1. Built with  `docker build -t garuda_sitl_v2 .` while at _docker folder\n",
    "    3. Launch docker\n",
    "        1. `xhost +`\n",
    "        1. `docker run -it --privileged \\\n",
    "        -v /home/mfaria/Flying_Octomap_code/:/ros_ws/src:rw \\\n",
    "        -v /tmp/.X11-unix:/tmp/.X11-unix:ro \\\n",
    "        -e DISPLAY=$DISPLAY \\\n",
    "        --name=garuda_sitl_v2 garuda_sitl_v2 /bin/bash`\n",
    "        1. exit\n",
    "        1. `docker start garuda_sitl_v2`\n",
    "        1. `docker exec -u 0 -it garuda_sitl_v2 bash`\n",
    "1. Build ros workspace\n",
    "    1. (First time) Make ros workspace:\n",
    "        1. `source /opt/ros/kinetic/setup.bash`\n",
    "        1. `cd /ros_ws`\n",
    "        2. `catkin init`\n",
    "    1. `catkin build` (should take around 3 min)\n",
    "1. Build \n",
    "    1. `source /ros_ws/devel/setup.bash`\n",
    "1. New terminal with ros_ws\n",
    "    1. `xhost +`\n",
    "    1. `docker exec -u 0 -it garuda_sitl_v2 bash`\n",
    "    1. `cd /ros_ws`\n",
    "    1. `source /ros_ws/devel/setup.bash`\n",
    "1. Launch octomap_server with dataset\n",
    "    1. roslaunch launch_options 20180219_freiburg_showLazyThetaStarPaths.launch\n",
    "    "
   ]
  },
  {
   "cell_type": "markdown",
   "metadata": {
    "collapsed": true
   },
   "source": [
    "### Try 2\n",
    "\n",
    "1. Do all of paper B try 5\n",
    "2. Run the posix launch that has path on the name\n",
    "3. rostopic pub /chatter std_msgs/String \"data: 'go'\" "
   ]
  },
  {
   "cell_type": "code",
   "execution_count": null,
   "metadata": {},
   "outputs": [],
   "source": []
  }
 ],
 "metadata": {
  "kernelspec": {
   "display_name": "Python 2",
   "language": "python",
   "name": "python2"
  },
  "language_info": {
   "codemirror_mode": {
    "name": "ipython",
    "version": 2
   },
   "file_extension": ".py",
   "mimetype": "text/x-python",
   "name": "python",
   "nbconvert_exporter": "python",
   "pygments_lexer": "ipython2",
   "version": "2.7.14"
  }
 },
 "nbformat": 4,
 "nbformat_minor": 2
}
